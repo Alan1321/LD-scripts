{
 "cells": [
  {
   "cell_type": "markdown",
   "metadata": {},
   "source": [
    "### Creating an animation from lmatools NetCDF grid files"
   ]
  },
  {
   "cell_type": "code",
   "execution_count": 1,
   "metadata": {},
   "outputs": [
    {
     "name": "stdout",
     "output_type": "stream",
     "text": [
      "['/data/20130606/grids/LMA_20130606_020000_600_10src_4000.0m-dx_flash_extent.nc', '/data/20130606/grids/LMA_20130606_021000_600_10src_4000.0m-dx_flash_extent.nc', '/data/20130606/grids/LMA_20130606_022000_600_10src_4000.0m-dx_flash_extent.nc', '/data/20130606/grids/LMA_20130606_023000_600_10src_4000.0m-dx_flash_extent.nc', '/data/20130606/grids/LMA_20130606_024000_600_10src_4000.0m-dx_flash_extent.nc', '/data/20130606/grids/LMA_20130606_025000_600_10src_4000.0m-dx_flash_extent.nc', '/data/20130606/grids/LMA_20130606_030000_600_10src_4000.0m-dx_flash_extent.nc', '/data/20130606/grids/LMA_20130606_031000_600_10src_4000.0m-dx_flash_extent.nc', '/data/20130606/grids/LMA_20130606_032000_600_10src_4000.0m-dx_flash_extent.nc', '/data/20130606/grids/LMA_20130606_033000_600_10src_4000.0m-dx_flash_extent.nc', '/data/20130606/grids/LMA_20130606_034000_600_10src_4000.0m-dx_flash_extent.nc', '/data/20130606/grids/LMA_20130606_035000_600_10src_4000.0m-dx_flash_extent.nc', '/data/20130606/grids/LMA_20130606_040000_600_10src_4000.0m-dx_flash_extent.nc', '/data/20130606/grids/LMA_20130606_041000_600_10src_4000.0m-dx_flash_extent.nc', '/data/20130606/grids/LMA_20130606_042000_600_10src_4000.0m-dx_flash_extent.nc', '/data/20130606/grids/LMA_20130606_043000_600_10src_4000.0m-dx_flash_extent.nc', '/data/20130606/grids/LMA_20130606_044000_600_10src_4000.0m-dx_flash_extent.nc', '/data/20130606/grids/LMA_20130606_045000_600_10src_4000.0m-dx_flash_extent.nc']\n"
     ]
    }
   ],
   "source": [
    "import glob\n",
    "filenames=glob.glob('/data/20130606/grids/LMA_20130606_0[2-4]*_flash_extent.nc')\n",
    "print(filenames)"
   ]
  },
  {
   "cell_type": "code",
   "execution_count": 2,
   "metadata": {},
   "outputs": [],
   "source": [
    "save_files = False\n",
    "if save_files:\n",
    "    import matplotlib\n",
    "    matplotlib.use('Agg')\n",
    "else:\n",
    "    %matplotlib qt"
   ]
  },
  {
   "cell_type": "code",
   "execution_count": 10,
   "metadata": {},
   "outputs": [],
   "source": [
    "import numpy as np\n",
    "from datetime import datetime, timedelta\n",
    "from lmatools.vis.multiples_nc import centers_to_edges\n",
    "import pupynere as nc\n",
    "import itertools\n",
    "        \n",
    "from lmatools.grid.grid_collection import LMAgridFileCollection"
   ]
  },
  {
   "cell_type": "code",
   "execution_count": 11,
   "metadata": {},
   "outputs": [],
   "source": [
    "\"\"\"\n",
    "Here we will provide a class to accept a file collection object\n",
    "and produce a series of plots, one per time frame.\n",
    "\n",
    "As a matplotlib animation object?\n",
    "\"\"\"\n",
    "def update_pcolor(pcolor, x, y, C):\n",
    "    \"\"\"updates coordinates and scalar data for a pcolormesh plot\n",
    "    \n",
    "       basically a hybrid of matplotlib.axes.Axes.pcolormesh and matplotlib.collections.QuadMesh\n",
    "       \n",
    "       # Tests that updated pcolormesh is equivalent to creating a new pcolormesh\n",
    "       import matplotlib.pyplot as plt\n",
    "       from acuity.MPLutils.managerhelpers import update_pcolor\n",
    "       import numpy as np\n",
    "\n",
    "       x = np.arange(10)\n",
    "       y = np.arange(10)\n",
    "\n",
    "       x, y = np.meshgrid(x,y)\n",
    "       z=x*y\n",
    "\n",
    "       pc = plt.pcolormesh(x,y,z, shading='flat')\n",
    "\n",
    "       plt.show()\n",
    "\n",
    "       # x += 5\n",
    "       # y += 5\n",
    "       # z = z**2.0\n",
    "       x2 = x[:-5,:]\n",
    "       y2 = y[:-5,:]\n",
    "       z2 = z[:-5,:]\n",
    "\n",
    "       update_pcolor(pc,x2,y2,z2)\n",
    "\n",
    "       if True:\n",
    "           pc2 = plt.pcolormesh(x2,y2,z2, shading='flat')\n",
    "\n",
    "           print 'Comparing attrs in pc2'\n",
    "           for key in pc2.__dict__:\n",
    "               if np.asarray(pc2.__dict__[key] != pc.__dict__[key]).all(): print key\n",
    "\n",
    "           print '------------------------'\n",
    "           print 'Comparing attrs in pc'\n",
    "           for key in pc.__dict__:\n",
    "               if np.asarray(pc2.__dict__[key] != pc.__dict__[key]).all(): print key\n",
    "\n",
    "\n",
    "       plt.draw()\n",
    "       \n",
    "    \"\"\"\n",
    "    import matplotlib.transforms as transforms\n",
    "    from matplotlib.collections import QuadMesh\n",
    "    assert isinstance(pcolor, QuadMesh)\n",
    "\n",
    "    # Axes.pcolormesh.__init__()\n",
    "    Ny, Nx = x.shape\n",
    "    coords = np.zeros(((Nx * Ny), 2), dtype=float)\n",
    "    \n",
    "    # no effort made to handle masked arrays here\n",
    "    C = np.ravel(C[0:Ny-1, 0:Nx-1])\n",
    "    coords[:, 0] = x.ravel()\n",
    "    coords[:, 1] = y.ravel()\n",
    "    \n",
    "    # QuadMesh.__init__()\n",
    "    pcolor._meshWidth = Nx-1\n",
    "    pcolor._meshHeight = Ny-1\n",
    "\n",
    "    pcolor._bbox = transforms.Bbox.unit()\n",
    "    pcolor._bbox.update_from_data_xy(coords.reshape(\n",
    "            (Nx * Ny, 2)))\n",
    "    \n",
    "    coords=coords.reshape((Ny, Nx, 2))\n",
    "    pcolor._coordinates = coords\n",
    "    # end quadmesh init\n",
    "        \n",
    "    if pcolor.get_array() != None:\n",
    "        pcolor.set_array(C)\n",
    "    \n",
    "    \n",
    "class GridAnimation(object):\n",
    "    def __init__(self, gridcollection, vmin, vmax, ax=None, titler=None, grid_label='Data', log=False):\n",
    "        \"\"\" gridcollection is an iterable that yields \n",
    "            t, xedge, yedge, density\n",
    "            where t is a datetime object, and xedge, yedge, and density\n",
    "            are ready for use in pcolormesh.\n",
    "            \n",
    "            The optional titler function accepts a datetime object for the current frame,\n",
    "            and should return the title to be set on the axes for each frame.\n",
    "            \n",
    "            If ax is not passed in, a new figure with a single set of axes \n",
    "            will be created along with a colorbar.\n",
    "            \n",
    "            The class can used as follows, for an instance of this class a:\n",
    "            matplotlib.animation.FuncAnimation(a.ax.figure, a.animate, frames=a.framer, \n",
    "                         init_func=a.setup, interval=20, blit=True)\n",
    "\n",
    "            \n",
    "        \"\"\"\n",
    "        self.gridcollection = gridcollection\n",
    "        \n",
    "        if titler is None:\n",
    "            self.titler = self.title_default\n",
    "        else:\n",
    "            self.titler = titler\n",
    "            \n",
    "        self.grid_label = grid_label\n",
    "        \n",
    "        if ax is not None:\n",
    "            self.ax = axes\n",
    "        else:\n",
    "            import matplotlib.pyplot as plt\n",
    "            from matplotlib.cm import get_cmap\n",
    "            from matplotlib.colors import LogNorm, Normalize\n",
    "            from matplotlib.colorbar import ColorbarBase, make_axes\n",
    "            fig = plt.figure()\n",
    "            self.ax = fig.add_subplot(1,1,1)\n",
    "            cbar_ax, cbar_kw = make_axes(self.ax)\n",
    "            self.cbar_ax = cbar_ax\n",
    "            if log:\n",
    "                self.norm = LogNorm(vmin=vmin, vmax=vmax)\n",
    "            else:\n",
    "                self.norm = Normalize(vmin=vmin, vmax=vmax)\n",
    "            cbar_kw['norm'] = self.norm\n",
    "            self.cmap = get_cmap('gist_earth')\n",
    "            cbar_kw['cmap'] = self.cmap\n",
    "            self.pc = None\n",
    "            \n",
    "            self.cbar = ColorbarBase(self.cbar_ax, **cbar_kw)\n",
    "            self.cbar.set_label(self.grid_label)\n",
    "    \n",
    "    def title_default(self, t):\n",
    "        return \"{0}\".format(t)\n",
    "    \n",
    "    def setup(self):\n",
    "        title_art = self.ax.set_title('')\n",
    "        if self.pc is None:\n",
    "#             self.ax.artists.remove(self.pc)\n",
    "            x, y = np.meshgrid(np.array([0,1]),\n",
    "                               np.array([0,1]))\n",
    "            c = np.ones((1,1))\n",
    "            self.pc = self.ax.pcolormesh(x,y,c, cmap=self.cmap, norm=self.norm)\n",
    "        return self.pc, title_art\n",
    "    \n",
    "    def animate(self, payload):\n",
    "        t, xedge, yedge, data = payload\n",
    "        x,y = np.meshgrid(xedge, yedge)\n",
    "        update_pcolor(self.pc, x,y,data)\n",
    "        title_art = self.ax.set_title(self.titler(t))\n",
    "        return self.pc, title_art\n",
    "\n",
    "    def framer(self):\n",
    "        for a in self.gridcollection:\n",
    "            yield a\n",
    "\n",
    "#         self.area_range = (0.0, 100000.0)\n",
    "#         self.rate_range = (0, 10000)\n",
    "#         self.source_range = (0, 100000)\n",
    "#         self.init_range = (0,100)\n"
   ]
  },
  {
   "cell_type": "code",
   "execution_count": 12,
   "metadata": {},
   "outputs": [
    {
     "ename": "NameError",
     "evalue": "name 'filenames' is not defined",
     "output_type": "error",
     "traceback": [
      "\u001B[1;31m---------------------------------------------------------------------------\u001B[0m",
      "\u001B[1;31mNameError\u001B[0m                                 Traceback (most recent call last)",
      "Cell \u001B[1;32mIn[12], line 3\u001B[0m\n\u001B[0;32m      1\u001B[0m \u001B[38;5;66;03m# names are 'x', 'y' for data that have been map projected\u001B[39;00m\n\u001B[0;32m      2\u001B[0m \u001B[38;5;66;03m# or 'longtiude', 'latitude' otherwise\u001B[39;00m\n\u001B[1;32m----> 3\u001B[0m NCs \u001B[38;5;241m=\u001B[39m LMAgridFileCollection(\u001B[43mfilenames\u001B[49m, \u001B[38;5;124m'\u001B[39m\u001B[38;5;124mflash_extent\u001B[39m\u001B[38;5;124m'\u001B[39m, x_name\u001B[38;5;241m=\u001B[39m\u001B[38;5;124m'\u001B[39m\u001B[38;5;124mx\u001B[39m\u001B[38;5;124m'\u001B[39m, y_name\u001B[38;5;241m=\u001B[39m\u001B[38;5;124m'\u001B[39m\u001B[38;5;124my\u001B[39m\u001B[38;5;124m'\u001B[39m)\n",
      "\u001B[1;31mNameError\u001B[0m: name 'filenames' is not defined"
     ]
    }
   ],
   "source": [
    "# names are 'x', 'y' for data that have been map projected\n",
    "# or 'longtiude', 'latitude' otherwise\n",
    "NCs = LMAgridFileCollection(filenames, 'flash_extent', x_name='x', y_name='y')"
   ]
  },
  {
   "cell_type": "code",
   "execution_count": 13,
   "metadata": {},
   "outputs": [
    {
     "ename": "NameError",
     "evalue": "name 'NCs' is not defined",
     "output_type": "error",
     "traceback": [
      "\u001B[1;31m---------------------------------------------------------------------------\u001B[0m",
      "\u001B[1;31mNameError\u001B[0m                                 Traceback (most recent call last)",
      "Cell \u001B[1;32mIn[13], line 1\u001B[0m\n\u001B[1;32m----> 1\u001B[0m GA \u001B[38;5;241m=\u001B[39m GridAnimation(\u001B[43mNCs\u001B[49m, \u001B[38;5;241m1\u001B[39m, \u001B[38;5;241m1000\u001B[39m, ax\u001B[38;5;241m=\u001B[39m\u001B[38;5;28;01mNone\u001B[39;00m, titler\u001B[38;5;241m=\u001B[39m\u001B[38;5;28;01mNone\u001B[39;00m, grid_label\u001B[38;5;241m=\u001B[39m\u001B[38;5;124m'\u001B[39m\u001B[38;5;124mFlashes per pixel\u001B[39m\u001B[38;5;124m'\u001B[39m, log\u001B[38;5;241m=\u001B[39m\u001B[38;5;28;01mTrue\u001B[39;00m)\n",
      "\u001B[1;31mNameError\u001B[0m: name 'NCs' is not defined"
     ]
    }
   ],
   "source": [
    "GA = GridAnimation(NCs, 1, 1000, ax=None, titler=None, grid_label='Flashes per pixel', log=True)\n"
   ]
  },
  {
   "cell_type": "code",
   "execution_count": 14,
   "metadata": {},
   "outputs": [
    {
     "ename": "SyntaxError",
     "evalue": "invalid syntax (2821653121.py, line 3)",
     "output_type": "error",
     "traceback": [
      "\u001B[1;36m  Cell \u001B[1;32mIn[14], line 3\u001B[1;36m\u001B[0m\n\u001B[1;33m    print xedge.min(), yedge.min()\u001B[0m\n\u001B[1;37m          ^\u001B[0m\n\u001B[1;31mSyntaxError\u001B[0m\u001B[1;31m:\u001B[0m invalid syntax\n"
     ]
    }
   ],
   "source": [
    "t  = datetime(2013,6,6,2,30,0)\n",
    "xedge, yedge, data = NCs.data_for_time(t)\n",
    "print xedge.min(), yedge.min()"
   ]
  },
  {
   "cell_type": "code",
   "execution_count": 15,
   "metadata": {},
   "outputs": [
    {
     "ename": "NameError",
     "evalue": "name 'GA' is not defined",
     "output_type": "error",
     "traceback": [
      "\u001B[1;31m---------------------------------------------------------------------------\u001B[0m",
      "\u001B[1;31mNameError\u001B[0m                                 Traceback (most recent call last)",
      "Cell \u001B[1;32mIn[15], line 2\u001B[0m\n\u001B[0;32m      1\u001B[0m \u001B[38;5;66;03m#GA.ax.axis((xedge.min(), xedge.max(), yedge.min(), yedge.max()))\u001B[39;00m\n\u001B[1;32m----> 2\u001B[0m \u001B[43mGA\u001B[49m\u001B[38;5;241m.\u001B[39max\u001B[38;5;241m.\u001B[39maxis((\u001B[38;5;241m-\u001B[39m\u001B[38;5;241m200.0\u001B[39m, \u001B[38;5;241m200\u001B[39m, \u001B[38;5;241m-\u001B[39m\u001B[38;5;241m200.0\u001B[39m, \u001B[38;5;241m200.0\u001B[39m))\n\u001B[0;32m      3\u001B[0m \u001B[38;5;28;01mfrom\u001B[39;00m \u001B[38;5;21;01mmatplotlib\u001B[39;00m\u001B[38;5;21;01m.\u001B[39;00m\u001B[38;5;21;01manimation\u001B[39;00m \u001B[38;5;28;01mimport\u001B[39;00m FuncAnimation\n\u001B[0;32m      4\u001B[0m FA \u001B[38;5;241m=\u001B[39m FuncAnimation(GA\u001B[38;5;241m.\u001B[39max\u001B[38;5;241m.\u001B[39mfigure, GA\u001B[38;5;241m.\u001B[39manimate, frames\u001B[38;5;241m=\u001B[39mGA\u001B[38;5;241m.\u001B[39mframer, \n\u001B[0;32m      5\u001B[0m                          init_func\u001B[38;5;241m=\u001B[39mGA\u001B[38;5;241m.\u001B[39msetup, interval\u001B[38;5;241m=\u001B[39m\u001B[38;5;241m100.0\u001B[39m, blit\u001B[38;5;241m=\u001B[39m\u001B[38;5;28;01mFalse\u001B[39;00m)\n",
      "\u001B[1;31mNameError\u001B[0m: name 'GA' is not defined"
     ]
    }
   ],
   "source": [
    "#GA.ax.axis((xedge.min(), xedge.max(), yedge.min(), yedge.max()))\n",
    "GA.ax.axis((-200.0, 200, -200.0, 200.0))\n",
    "from matplotlib.animation import FuncAnimation\n",
    "FA = FuncAnimation(GA.ax.figure, GA.animate, frames=GA.framer, \n",
    "                         init_func=GA.setup, interval=100.0, blit=False)\n"
   ]
  },
  {
   "cell_type": "code",
   "execution_count": 16,
   "metadata": {},
   "outputs": [
    {
     "ename": "NameError",
     "evalue": "name 'save_files' is not defined",
     "output_type": "error",
     "traceback": [
      "\u001B[1;31m---------------------------------------------------------------------------\u001B[0m",
      "\u001B[1;31mNameError\u001B[0m                                 Traceback (most recent call last)",
      "Cell \u001B[1;32mIn[16], line 1\u001B[0m\n\u001B[1;32m----> 1\u001B[0m \u001B[38;5;28;01mif\u001B[39;00m \u001B[43msave_files\u001B[49m:\n\u001B[0;32m      2\u001B[0m     \u001B[38;5;66;03m# It's not clear that the anim's save function knows to save the right number of frames.\u001B[39;00m\n\u001B[0;32m      3\u001B[0m     \u001B[38;5;66;03m# Sometimes, for short animations, it seems to start resaving frames.\u001B[39;00m\n\u001B[0;32m      4\u001B[0m     \u001B[38;5;28;01mimport\u001B[39;00m \u001B[38;5;21;01mmatplotlib\u001B[39;00m\u001B[38;5;21;01m.\u001B[39;00m\u001B[38;5;21;01manimation\u001B[39;00m \u001B[38;5;28;01mas\u001B[39;00m \u001B[38;5;21;01manim\u001B[39;00m\n\u001B[0;32m      5\u001B[0m     anim\u001B[38;5;241m.\u001B[39mwriters\u001B[38;5;241m.\u001B[39mlist()\n",
      "\u001B[1;31mNameError\u001B[0m: name 'save_files' is not defined"
     ]
    }
   ],
   "source": [
    "if save_files:\n",
    "    # It's not clear that the anim's save function knows to save the right number of frames.\n",
    "    # Sometimes, for short animations, it seems to start resaving frames.\n",
    "    import matplotlib.animation as anim\n",
    "    anim.writers.list()\n",
    "    FA.save('0529-0530.png', writer='imagemagick_file')#, clear_temp=False)\n",
    "else:\n",
    "    # FIXME: Blitting of the title artist isn't working right. \n",
    "    # Is the text object being recreated each time?\n",
    "    # If so, try changing the text artist instead of recreating new text with set_title?\n",
    "    from matplotlib.pyplot import show\n",
    "    show()"
   ]
  },
  {
   "cell_type": "code",
   "execution_count": null,
   "metadata": {},
   "outputs": [],
   "source": []
  },
  {
   "cell_type": "code",
   "execution_count": null,
   "metadata": {},
   "outputs": [],
   "source": []
  },
  {
   "cell_type": "code",
   "execution_count": null,
   "metadata": {},
   "outputs": [],
   "source": []
  },
  {
   "cell_type": "code",
   "execution_count": null,
   "metadata": {
    "collapsed": true
   },
   "outputs": [],
   "source": []
  }
 ],
 "metadata": {
  "kernelspec": {
   "display_name": "Python 3 (ipykernel)",
   "language": "python",
   "name": "python3"
  },
  "language_info": {
   "codemirror_mode": {
    "name": "ipython",
    "version": 3
   },
   "file_extension": ".py",
   "mimetype": "text/x-python",
   "name": "python",
   "nbconvert_exporter": "python",
   "pygments_lexer": "ipython3",
   "version": "3.9.13"
  }
 },
 "nbformat": 4,
 "nbformat_minor": 1
}
